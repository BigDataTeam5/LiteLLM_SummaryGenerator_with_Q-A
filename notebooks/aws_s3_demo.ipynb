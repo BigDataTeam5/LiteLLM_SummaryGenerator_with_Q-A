{
 "cells": [
  {
   "cell_type": "markdown",
   "metadata": {},
   "source": [
    "# AWS S3 Tutorial with boto3\n",
    "\n",
    "This notebook demonstrates how to interact with AWS S3 using the boto3 library.\n",
    "\n",
    "## Prerequisites\n",
    "1. AWS Account\n",
    "2. AWS CLI configured with credentials\n",
    "3. boto3 installed (`pip install boto3`)"
   ]
  },
  {
   "cell_type": "code",
   "execution_count": 1,
   "metadata": {},
   "outputs": [
    {
     "ename": "ModuleNotFoundError",
     "evalue": "No module named 'boto3'",
     "output_type": "error",
     "traceback": [
      "\u001b[0;31m---------------------------------------------------------------------------\u001b[0m",
      "\u001b[0;31mModuleNotFoundError\u001b[0m                       Traceback (most recent call last)",
      "Cell \u001b[0;32mIn[1], line 1\u001b[0m\n\u001b[0;32m----> 1\u001b[0m \u001b[38;5;28;01mimport\u001b[39;00m\u001b[38;5;250m \u001b[39m\u001b[38;5;21;01mboto3\u001b[39;00m\n\u001b[1;32m      2\u001b[0m \u001b[38;5;28;01mimport\u001b[39;00m\u001b[38;5;250m \u001b[39m\u001b[38;5;21;01mjson\u001b[39;00m\n\u001b[1;32m      3\u001b[0m \u001b[38;5;28;01mfrom\u001b[39;00m\u001b[38;5;250m \u001b[39m\u001b[38;5;21;01mdatetime\u001b[39;00m\u001b[38;5;250m \u001b[39m\u001b[38;5;28;01mimport\u001b[39;00m datetime, timedelta\n",
      "\u001b[0;31mModuleNotFoundError\u001b[0m: No module named 'boto3'"
     ]
    }
   ],
   "source": [
    "import boto3\n",
    "import json\n",
    "from datetime import datetime, timedelta"
   ]
  },
  {
   "cell_type": "markdown",
   "metadata": {},
   "source": [
    "## 1. Connecting to S3\n",
    "\n",
    "First, we'll create an S3 client using boto3:"
   ]
  },
  {
   "cell_type": "code",
   "execution_count": null,
   "metadata": {},
   "outputs": [],
   "source": [
    "# Create an S3 client\n",
    "s3 = boto3.client('s3')\n",
    "\n",
    "# Alternative: using resource instead of client\n",
    "s3_resource = boto3.resource('s3')"
   ]
  },
  {
   "cell_type": "markdown",
   "metadata": {},
   "source": [
    "## 2. Basic Operations\n",
    "\n",
    "### 2.1 Listing Buckets"
   ]
  },
  {
   "cell_type": "code",
   "execution_count": null,
   "metadata": {},
   "outputs": [],
   "source": [
    "response = s3.list_buckets()\n",
    "for bucket in response['Buckets']:\n",
    "    print(f'Bucket Name: {bucket[\"Name\"]}')"
   ]
  },
  {
   "cell_type": "markdown",
   "metadata": {},
   "source": [
    "### 2.2 Creating a Bucket"
   ]
  },
  {
   "cell_type": "code",
   "execution_count": null,
   "metadata": {},
   "outputs": [],
   "source": [
    "def create_bucket(bucket_name, region='us-east-1'):\n",
    "    try:\n",
    "        if region == 'us-east-1':\n",
    "            response = s3.create_bucket(Bucket=bucket_name)\n",
    "        else:\n",
    "            response = s3.create_bucket(\n",
    "                Bucket=bucket_name,\n",
    "                CreateBucketConfiguration={'LocationConstraint': region}\n",
    "            )\n",
    "        print(f'Bucket {bucket_name} created successfully')\n",
    "        return response\n",
    "    except Exception as e:\n",
    "        print(f'Error creating bucket: {str(e)}')\n",
    "        return None"
   ]
  },
  {
   "cell_type": "markdown",
   "metadata": {},
   "source": [
    "### 2.3 Uploading Files"
   ]
  },
  {
   "cell_type": "code",
   "execution_count": null,
   "metadata": {},
   "outputs": [],
   "source": [
    "def upload_file(file_path, bucket_name, object_name=None):\n",
    "    if object_name is None:\n",
    "        object_name = file_path\n",
    "    \n",
    "    try:\n",
    "        response = s3.upload_file(file_path, bucket_name, object_name)\n",
    "        print(f'File uploaded successfully to {bucket_name}/{object_name}')\n",
    "        return True\n",
    "    except Exception as e:\n",
    "        print(f'Error uploading file: {str(e)}')\n",
    "        return False"
   ]
  },
  {
   "cell_type": "markdown",
   "metadata": {},
   "source": [
    "### 2.4 Downloading Files"
   ]
  },
  {
   "cell_type": "code",
   "execution_count": null,
   "metadata": {},
   "outputs": [],
   "source": [
    "def download_file(bucket_name, object_name, file_path):\n",
    "    try:\n",
    "        s3.download_file(bucket_name, object_name, file_path)\n",
    "        print(f'File downloaded successfully to {file_path}')\n",
    "        return True\n",
    "    except Exception as e:\n",
    "        print(f'Error downloading file: {str(e)}')\n",
    "        return False"
   ]
  },
  {
   "cell_type": "markdown",
   "metadata": {},
   "source": [
    "## 3. Advanced Operations\n",
    "\n",
    "### 3.1 Generating Presigned URLs"
   ]
  },
  {
   "cell_type": "code",
   "execution_count": null,
   "metadata": {},
   "outputs": [],
   "source": [
    "def generate_presigned_url(bucket_name, object_name, expiration=3600):\n",
    "    try:\n",
    "        url = s3.generate_presigned_url(\n",
    "            'get_object',\n",
    "            Params={'Bucket': bucket_name, 'Key': object_name},\n",
    "            ExpiresIn=expiration\n",
    "        )\n",
    "        print(f'Presigned URL: {url}')\n",
    "        return url\n",
    "    except Exception as e:\n",
    "        print(f'Error generating presigned URL: {str(e)}')\n",
    "        return None"
   ]
  },
  {
   "cell_type": "markdown",
   "metadata": {},
   "source": [
    "### 3.2 Managing Object Versioning"
   ]
  },
  {
   "cell_type": "code",
   "execution_count": null,
   "metadata": {},
   "outputs": [],
   "source": [
    "def enable_versioning(bucket_name):\n",
    "    try:\n",
    "        s3.put_bucket_versioning(\n",
    "            Bucket=bucket_name,\n",
    "            VersioningConfiguration={'Status': 'Enabled'}\n",
    "        )\n",
    "        print(f'Versioning enabled for bucket {bucket_name}')\n",
    "        return True\n",
    "    except Exception as e:\n",
    "        print(f'Error enabling versioning: {str(e)}')\n",
    "        return False"
   ]
  },
  {
   "cell_type": "markdown",
   "metadata": {},
   "source": [
    "## 4. Best Practices and Error Handling\n",
    "\n",
    "### 4.1 Implementing Retry Logic"
   ]
  },
  {
   "cell_type": "code",
   "execution_count": null,
   "metadata": {},
   "outputs": [],
   "source": [
    "import boto3.s3.transfer as transfer\n",
    "\n",
    "def upload_with_retry(file_path, bucket_name, object_name=None, max_attempts=3):\n",
    "    config = transfer.TransferConfig(\n",
    "        multipart_threshold=1024 * 25,  # 25MB\n",
    "        max_concurrency=10,\n",
    "        multipart_chunksize=1024 * 25,\n",
    "        use_threads=True\n",
    "    )\n",
    "    \n",
    "    for attempt in range(max_attempts):\n",
    "        try:\n",
    "            s3.upload_file(\n",
    "                file_path,\n",
    "                bucket_name,\n",
    "                object_name or file_path,\n",
    "                Config=config\n",
    "            )\n",
    "            print(f'File uploaded successfully on attempt {attempt + 1}')\n",
    "            return True\n",
    "        except Exception as e:\n",
    "            if attempt == max_attempts - 1:\n",
    "                print(f'Final attempt failed: {str(e)}')\n",
    "                return False\n",
    "            print(f'Attempt {attempt + 1} failed, retrying...')"
   ]
  },
  {
   "cell_type": "markdown",
   "metadata": {},
   "source": [
    "## 5. Real-world Example: File Management System"
   ]
  },
  {
   "cell_type": "code",
   "execution_count": null,
   "metadata": {},
   "outputs": [],
   "source": [
    "class S3FileManager:\n",
    "    def __init__(self, bucket_name, base_path=''):\n",
    "        self.s3 = boto3.client('s3')\n",
    "        self.bucket_name = bucket_name\n",
    "        self.base_path = base_path.strip('/')\n",
    "    \n",
    "    def list_files(self, prefix=''):\n",
    "        full_prefix = f'{self.base_path}/{prefix}'.strip('/')\n",
    "        response = self.s3.list_objects_v2(\n",
    "            Bucket=self.bucket_name,\n",
    "            Prefix=full_prefix\n",
    "        )\n",
    "        return [obj['Key'] for obj in response.get('Contents', [])]\n",
    "    \n",
    "    def upload_file(self, file_path, object_name=None):\n",
    "        if not object_name:\n",
    "            object_name = os.path.basename(file_path)\n",
    "        full_path = f'{self.base_path}/{object_name}'.strip('/')\n",
    "        return upload_with_retry(file_path, self.bucket_name, full_path)\n",
    "    \n",
    "    def get_presigned_url(self, object_name, expiration=3600):\n",
    "        full_path = f'{self.base_path}/{object_name}'.strip('/')\n",
    "        return generate_presigned_url(self.bucket_name, full_path, expiration)"
   ]
  },
  {
   "cell_type": "markdown",
   "metadata": {},
   "source": [
    "## Usage Example"
   ]
  },
  {
   "cell_type": "code",
   "execution_count": null,
   "metadata": {},
   "outputs": [],
   "source": [
    "# Initialize file manager\n",
    "file_manager = S3FileManager('your-bucket-name', 'path/to/files')\n",
    "\n",
    "# List files\n",
    "files = file_manager.list_files()\n",
    "print('Files in bucket:', files)\n",
    "\n",
    "# Upload a file\n",
    "file_manager.upload_file('local_file.txt', 'remote_file.txt')\n",
    "\n",
    "# Generate presigned URL\n",
    "url = file_manager.get_presigned_url('remote_file.txt')\n",
    "print('Presigned URL:', url)"
   ]
  }
 ],
 "metadata": {
  "kernelspec": {
   "display_name": "venv",
   "language": "python",
   "name": "python3"
  },
  "language_info": {
   "codemirror_mode": {
    "name": "ipython",
    "version": 3
   },
   "file_extension": ".py",
   "mimetype": "text/x-python",
   "name": "python",
   "nbconvert_exporter": "python",
   "pygments_lexer": "ipython3",
   "version": "3.12.7"
  }
 },
 "nbformat": 4,
 "nbformat_minor": 4
}
